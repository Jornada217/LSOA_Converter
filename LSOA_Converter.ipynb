{
 "cells": [
  {
   "cell_type": "code",
   "execution_count": null,
   "metadata": {},
   "outputs": [],
   "source": [
    "import urllib\n",
    "import os\n",
    "from geoconvert import geoconverter\n",
    "\n",
    "#src is path to file\n",
    "src = os.path.join('data','src')\n",
    "print(src)"
   ]
  },
  {
   "cell_type": "code",
   "execution_count": null,
   "metadata": {
    "scrolled": false
   },
   "outputs": [],
   "source": [
    "dr = geoconverter.driver()\n",
    "conv = geoconverter.geoconverter()\n",
    "conv.autofill(src, 'GeoConvertTest.csv')\n",
    "\n",
    "print('done')\n"
   ]
  },
  {
   "cell_type": "code",
   "execution_count": null,
   "metadata": {},
   "outputs": [],
   "source": [
    "file = pd.read_csv(os.path.join('Geoconverter-converted.csv'), index_col=False)\n",
    "    \n",
    "file.describe()"
   ]
  }
 ],
 "metadata": {
  "kernelspec": {
   "display_name": "ML Gentrification",
   "language": "python",
   "name": "mlgent"
  },
  "language_info": {
   "codemirror_mode": {
    "name": "ipython",
    "version": 3
   },
   "file_extension": ".py",
   "mimetype": "text/x-python",
   "name": "python",
   "nbconvert_exporter": "python",
   "pygments_lexer": "ipython3",
   "version": "3.7.10"
  }
 },
 "nbformat": 4,
 "nbformat_minor": 4
}
